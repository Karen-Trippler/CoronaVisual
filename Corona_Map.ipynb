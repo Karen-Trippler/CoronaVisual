{
 "cells": [
  {
   "cell_type": "code",
   "execution_count": 1,
   "metadata": {},
   "outputs": [
    {
     "data": {
      "text/html": [
       "        <script type=\"text/javascript\">\n",
       "        window.PlotlyConfig = {MathJaxConfig: 'local'};\n",
       "        if (window.MathJax) {MathJax.Hub.Config({SVG: {font: \"STIX-Web\"}});}\n",
       "        if (typeof require !== 'undefined') {\n",
       "        require.undef(\"plotly\");\n",
       "        requirejs.config({\n",
       "            paths: {\n",
       "                'plotly': ['https://cdn.plot.ly/plotly-latest.min']\n",
       "            }\n",
       "        });\n",
       "        require(['plotly'], function(Plotly) {\n",
       "            window._Plotly = Plotly;\n",
       "        });\n",
       "        }\n",
       "        </script>\n",
       "        "
      ]
     },
     "metadata": {},
     "output_type": "display_data"
    }
   ],
   "source": [
    "#import staments\n",
    "# Import libraries\n",
    "import numpy as np \n",
    "import pandas as pd \n",
    "import plotly as py\n",
    "import plotly.express as px\n",
    "import plotly.graph_objs as go\n",
    "from plotly.subplots import make_subplots\n",
    "from plotly.offline import download_plotlyjs, init_notebook_mode, plot, iplot\n",
    "init_notebook_mode(connected=True)"
   ]
  },
  {
   "cell_type": "code",
   "execution_count": 46,
   "metadata": {},
   "outputs": [
    {
     "data": {
      "application/vnd.plotly.v1+json": {
       "config": {
        "plotlyServerURL": "https://plot.ly"
       },
       "data": [
        {
         "colorscale": [
          [
           0,
           "rgb(255,245,240)"
          ],
          [
           0.125,
           "rgb(254,224,210)"
          ],
          [
           0.25,
           "rgb(252,187,161)"
          ],
          [
           0.375,
           "rgb(252,146,114)"
          ],
          [
           0.5,
           "rgb(251,106,74)"
          ],
          [
           0.625,
           "rgb(239,59,44)"
          ],
          [
           0.75,
           "rgb(203,24,29)"
          ],
          [
           0.875,
           "rgb(165,15,21)"
          ],
          [
           1,
           "rgb(103,0,13)"
          ]
         ],
         "locationmode": "country names",
         "locations": [
          "Kuwait",
          "Spain",
          "Botswana",
          "Eritrea",
          "Diamond Princess",
          "Laos",
          "Japan",
          "Congo (Kinshasa)",
          "Cambodia",
          "Azerbaijan",
          "Algeria",
          "Syria",
          "Ghana",
          "Monaco",
          "Togo",
          "San Marino",
          "Burundi",
          "Italy",
          "United Arab Emirates",
          "Mongolia",
          "Romania",
          "Pakistan",
          "Germany",
          "Montenegro",
          "Kyrgyzstan",
          "Austria",
          "Costa Rica",
          "Turkey",
          "Morocco",
          "Bahamas",
          "Sao Tome and Principe",
          "Moldova",
          "Switzerland",
          "Bangladesh",
          "El Salvador",
          "Djibouti",
          "Malta",
          "Saudi Arabia",
          "Zambia",
          "Colombia",
          "Comoros",
          "Guinea",
          "Somalia",
          "Bosnia and Herzegovina",
          "Mauritania",
          "Guatemala",
          "Uganda",
          "Bahrain",
          "Papua New Guinea",
          "Slovakia",
          "Latvia",
          "Mauritius",
          "Congo (Brazzaville)",
          "Mexico",
          "Grenada",
          "Equatorial Guinea",
          "Panama",
          "Venezuela",
          "Greece",
          "Bulgaria",
          "Denmark",
          "Mozambique",
          "Niger",
          "France",
          "Israel",
          "New Zealand",
          "Kenya",
          "Nicaragua",
          "Angola",
          "Cyprus",
          "Thailand",
          "Finland",
          "Argentina",
          "Cabo Verde",
          "Brunei",
          "Timor-Leste",
          "Jordan",
          "Fiji",
          "Rwanda",
          "North Macedonia",
          "Nigeria",
          "Saint Kitts and Nevis",
          "Yemen",
          "Ukraine",
          "Tunisia",
          "South Korea",
          "Antigua and Barbuda",
          "Czech Republic",
          "Ethiopia",
          "Tanzania",
          "Norway",
          "Taiwan",
          "Russia",
          "Tajikistan",
          "Georgia",
          "Iraq",
          "Vietnam",
          "Australia",
          "Namibia",
          "Saint Vincent and the Grenadines",
          "Croatia",
          "Gambia",
          "Brazil",
          "Gabon",
          "Andorra",
          "Oman",
          "Armenia",
          "Ireland",
          "Nepal",
          "Saint Lucia",
          "South Sudan",
          "West Bank and Gaza",
          "Estonia",
          "Netherlands",
          "Cuba",
          "Slovenia",
          "Kosovo",
          "Western Sahara",
          "Eswatini",
          "Albania",
          "Kazakhstan",
          "Iran",
          "Sweden",
          "US",
          "Macau",
          "Belgium",
          "Libya",
          "India",
          "Ecuador",
          "Madagascar",
          "Serbia",
          "Indonesia",
          "Chad",
          "Afghanistan",
          "Hong Kong",
          "Honduras",
          "Mainland China",
          "Holy See",
          "Burkina Faso",
          "Bolivia",
          "Sri Lanka",
          "Uzbekistan",
          "Haiti",
          "Belarus",
          "Liberia",
          "Philippines",
          "Central African Republic",
          "Peru",
          "Luxembourg",
          "Zimbabwe",
          "Lithuania",
          "Sudan",
          "Iceland",
          "Uruguay",
          "Benin",
          "Bhutan",
          "Canada",
          "Dominican Republic",
          "Trinidad and Tobago",
          "Hungary",
          "South Africa",
          "Singapore",
          "MS Zaandam",
          "Sierra Leone",
          "Portugal",
          "Poland",
          "Liechtenstein",
          "Belize",
          "Jamaica",
          "Suriname",
          "Seychelles",
          "Qatar",
          "Dominica",
          "Guyana",
          "Mali",
          "Guinea-Bissau",
          "Cameroon",
          "Lebanon",
          "Barbados",
          "Chile",
          "Egypt",
          "Malaysia",
          "Senegal",
          "UK",
          "Ivory Coast",
          "Maldives",
          "Malawi",
          "Paraguay",
          "Burma",
          "Others",
          "Reunion",
          "East Timor",
          "French Guiana",
          "Gambia, The",
          "Martinique",
          "Guadeloupe",
          "Bahamas, The",
          "Mayotte",
          "Cape Verde",
          "Aruba",
          "Cayman Islands",
          "Curacao",
          "Gibraltar",
          "Channel Islands",
          "Faroe Islands",
          "Saint Barthelemy",
          "('St. Martin',)",
          "Palestine",
          "St. Martin",
          "Vatican City",
          "Republic of Ireland",
          " Azerbaijan",
          "North Ireland"
         ],
         "marker": {
          "line": {
           "color": "black",
           "width": 0.5
          }
         },
         "type": "choropleth",
         "z": [
          4024,
          213435,
          23,
          39,
          712,
          19,
          14088,
          572,
          122,
          1804,
          4006,
          43,
          2074,
          95,
          116,
          569,
          11,
          205463,
          12481,
          38,
          12240,
          16817,
          163009,
          322,
          746,
          15452,
          719,
          120204,
          4423,
          81,
          14,
          3897,
          29586,
          7667,
          395,
          1089,
          465,
          22753,
          106,
          6507,
          1,
          1495,
          601,
          1757,
          8,
          599,
          83,
          3040,
          8,
          1396,
          858,
          332,
          220,
          19224,
          20,
          315,
          6532,
          333,
          2591,
          1506,
          9356,
          76,
          719,
          167299,
          15946,
          1479,
          396,
          14,
          27,
          850,
          2954,
          4995,
          4428,
          121,
          138,
          24,
          453,
          18,
          243,
          1465,
          1932,
          15,
          6,
          10406,
          994,
          10774,
          24,
          7682,
          131,
          480,
          7738,
          429,
          106498,
          15,
          539,
          2085,
          270,
          6766,
          16,
          16,
          2076,
          11,
          87187,
          276,
          745,
          2348,
          2066,
          20612,
          57,
          17,
          35,
          344,
          1689,
          39512,
          1501,
          1429,
          799,
          6,
          100,
          773,
          3402,
          94640,
          21092,
          1069424,
          45,
          48519,
          61,
          34863,
          24934,
          128,
          9009,
          10118,
          73,
          2171,
          1037,
          771,
          82874,
          11,
          645,
          1110,
          663,
          2039,
          81,
          14027,
          141,
          8488,
          50,
          36976,
          3784,
          40,
          1385,
          442,
          1797,
          643,
          64,
          7,
          54457,
          6972,
          116,
          2775,
          5647,
          16169,
          9,
          124,
          25045,
          12877,
          82,
          18,
          422,
          10,
          11,
          13409,
          16,
          82,
          490,
          205,
          1832,
          725,
          81,
          16023,
          5537,
          6002,
          933,
          172481,
          1275,
          468,
          37,
          266,
          151,
          712,
          45,
          1,
          18,
          1,
          32,
          53,
          4,
          7,
          1,
          4,
          1,
          1,
          1,
          1,
          2,
          1,
          2,
          22,
          2,
          1,
          21,
          1,
          1
         ]
        }
       ],
       "layout": {
        "geo": {
         "projection": {
          "type": "equirectangular"
         },
         "showcoastlines": false,
         "showframe": false
        },
        "template": {
         "data": {
          "bar": [
           {
            "error_x": {
             "color": "#2a3f5f"
            },
            "error_y": {
             "color": "#2a3f5f"
            },
            "marker": {
             "line": {
              "color": "#E5ECF6",
              "width": 0.5
             }
            },
            "type": "bar"
           }
          ],
          "barpolar": [
           {
            "marker": {
             "line": {
              "color": "#E5ECF6",
              "width": 0.5
             }
            },
            "type": "barpolar"
           }
          ],
          "carpet": [
           {
            "aaxis": {
             "endlinecolor": "#2a3f5f",
             "gridcolor": "white",
             "linecolor": "white",
             "minorgridcolor": "white",
             "startlinecolor": "#2a3f5f"
            },
            "baxis": {
             "endlinecolor": "#2a3f5f",
             "gridcolor": "white",
             "linecolor": "white",
             "minorgridcolor": "white",
             "startlinecolor": "#2a3f5f"
            },
            "type": "carpet"
           }
          ],
          "choropleth": [
           {
            "colorbar": {
             "outlinewidth": 0,
             "ticks": ""
            },
            "type": "choropleth"
           }
          ],
          "contour": [
           {
            "colorbar": {
             "outlinewidth": 0,
             "ticks": ""
            },
            "colorscale": [
             [
              0,
              "#0d0887"
             ],
             [
              0.1111111111111111,
              "#46039f"
             ],
             [
              0.2222222222222222,
              "#7201a8"
             ],
             [
              0.3333333333333333,
              "#9c179e"
             ],
             [
              0.4444444444444444,
              "#bd3786"
             ],
             [
              0.5555555555555556,
              "#d8576b"
             ],
             [
              0.6666666666666666,
              "#ed7953"
             ],
             [
              0.7777777777777778,
              "#fb9f3a"
             ],
             [
              0.8888888888888888,
              "#fdca26"
             ],
             [
              1,
              "#f0f921"
             ]
            ],
            "type": "contour"
           }
          ],
          "contourcarpet": [
           {
            "colorbar": {
             "outlinewidth": 0,
             "ticks": ""
            },
            "type": "contourcarpet"
           }
          ],
          "heatmap": [
           {
            "colorbar": {
             "outlinewidth": 0,
             "ticks": ""
            },
            "colorscale": [
             [
              0,
              "#0d0887"
             ],
             [
              0.1111111111111111,
              "#46039f"
             ],
             [
              0.2222222222222222,
              "#7201a8"
             ],
             [
              0.3333333333333333,
              "#9c179e"
             ],
             [
              0.4444444444444444,
              "#bd3786"
             ],
             [
              0.5555555555555556,
              "#d8576b"
             ],
             [
              0.6666666666666666,
              "#ed7953"
             ],
             [
              0.7777777777777778,
              "#fb9f3a"
             ],
             [
              0.8888888888888888,
              "#fdca26"
             ],
             [
              1,
              "#f0f921"
             ]
            ],
            "type": "heatmap"
           }
          ],
          "heatmapgl": [
           {
            "colorbar": {
             "outlinewidth": 0,
             "ticks": ""
            },
            "colorscale": [
             [
              0,
              "#0d0887"
             ],
             [
              0.1111111111111111,
              "#46039f"
             ],
             [
              0.2222222222222222,
              "#7201a8"
             ],
             [
              0.3333333333333333,
              "#9c179e"
             ],
             [
              0.4444444444444444,
              "#bd3786"
             ],
             [
              0.5555555555555556,
              "#d8576b"
             ],
             [
              0.6666666666666666,
              "#ed7953"
             ],
             [
              0.7777777777777778,
              "#fb9f3a"
             ],
             [
              0.8888888888888888,
              "#fdca26"
             ],
             [
              1,
              "#f0f921"
             ]
            ],
            "type": "heatmapgl"
           }
          ],
          "histogram": [
           {
            "marker": {
             "colorbar": {
              "outlinewidth": 0,
              "ticks": ""
             }
            },
            "type": "histogram"
           }
          ],
          "histogram2d": [
           {
            "colorbar": {
             "outlinewidth": 0,
             "ticks": ""
            },
            "colorscale": [
             [
              0,
              "#0d0887"
             ],
             [
              0.1111111111111111,
              "#46039f"
             ],
             [
              0.2222222222222222,
              "#7201a8"
             ],
             [
              0.3333333333333333,
              "#9c179e"
             ],
             [
              0.4444444444444444,
              "#bd3786"
             ],
             [
              0.5555555555555556,
              "#d8576b"
             ],
             [
              0.6666666666666666,
              "#ed7953"
             ],
             [
              0.7777777777777778,
              "#fb9f3a"
             ],
             [
              0.8888888888888888,
              "#fdca26"
             ],
             [
              1,
              "#f0f921"
             ]
            ],
            "type": "histogram2d"
           }
          ],
          "histogram2dcontour": [
           {
            "colorbar": {
             "outlinewidth": 0,
             "ticks": ""
            },
            "colorscale": [
             [
              0,
              "#0d0887"
             ],
             [
              0.1111111111111111,
              "#46039f"
             ],
             [
              0.2222222222222222,
              "#7201a8"
             ],
             [
              0.3333333333333333,
              "#9c179e"
             ],
             [
              0.4444444444444444,
              "#bd3786"
             ],
             [
              0.5555555555555556,
              "#d8576b"
             ],
             [
              0.6666666666666666,
              "#ed7953"
             ],
             [
              0.7777777777777778,
              "#fb9f3a"
             ],
             [
              0.8888888888888888,
              "#fdca26"
             ],
             [
              1,
              "#f0f921"
             ]
            ],
            "type": "histogram2dcontour"
           }
          ],
          "mesh3d": [
           {
            "colorbar": {
             "outlinewidth": 0,
             "ticks": ""
            },
            "type": "mesh3d"
           }
          ],
          "parcoords": [
           {
            "line": {
             "colorbar": {
              "outlinewidth": 0,
              "ticks": ""
             }
            },
            "type": "parcoords"
           }
          ],
          "pie": [
           {
            "automargin": true,
            "type": "pie"
           }
          ],
          "scatter": [
           {
            "marker": {
             "colorbar": {
              "outlinewidth": 0,
              "ticks": ""
             }
            },
            "type": "scatter"
           }
          ],
          "scatter3d": [
           {
            "line": {
             "colorbar": {
              "outlinewidth": 0,
              "ticks": ""
             }
            },
            "marker": {
             "colorbar": {
              "outlinewidth": 0,
              "ticks": ""
             }
            },
            "type": "scatter3d"
           }
          ],
          "scattercarpet": [
           {
            "marker": {
             "colorbar": {
              "outlinewidth": 0,
              "ticks": ""
             }
            },
            "type": "scattercarpet"
           }
          ],
          "scattergeo": [
           {
            "marker": {
             "colorbar": {
              "outlinewidth": 0,
              "ticks": ""
             }
            },
            "type": "scattergeo"
           }
          ],
          "scattergl": [
           {
            "marker": {
             "colorbar": {
              "outlinewidth": 0,
              "ticks": ""
             }
            },
            "type": "scattergl"
           }
          ],
          "scattermapbox": [
           {
            "marker": {
             "colorbar": {
              "outlinewidth": 0,
              "ticks": ""
             }
            },
            "type": "scattermapbox"
           }
          ],
          "scatterpolar": [
           {
            "marker": {
             "colorbar": {
              "outlinewidth": 0,
              "ticks": ""
             }
            },
            "type": "scatterpolar"
           }
          ],
          "scatterpolargl": [
           {
            "marker": {
             "colorbar": {
              "outlinewidth": 0,
              "ticks": ""
             }
            },
            "type": "scatterpolargl"
           }
          ],
          "scatterternary": [
           {
            "marker": {
             "colorbar": {
              "outlinewidth": 0,
              "ticks": ""
             }
            },
            "type": "scatterternary"
           }
          ],
          "surface": [
           {
            "colorbar": {
             "outlinewidth": 0,
             "ticks": ""
            },
            "colorscale": [
             [
              0,
              "#0d0887"
             ],
             [
              0.1111111111111111,
              "#46039f"
             ],
             [
              0.2222222222222222,
              "#7201a8"
             ],
             [
              0.3333333333333333,
              "#9c179e"
             ],
             [
              0.4444444444444444,
              "#bd3786"
             ],
             [
              0.5555555555555556,
              "#d8576b"
             ],
             [
              0.6666666666666666,
              "#ed7953"
             ],
             [
              0.7777777777777778,
              "#fb9f3a"
             ],
             [
              0.8888888888888888,
              "#fdca26"
             ],
             [
              1,
              "#f0f921"
             ]
            ],
            "type": "surface"
           }
          ],
          "table": [
           {
            "cells": {
             "fill": {
              "color": "#EBF0F8"
             },
             "line": {
              "color": "white"
             }
            },
            "header": {
             "fill": {
              "color": "#C8D4E3"
             },
             "line": {
              "color": "white"
             }
            },
            "type": "table"
           }
          ]
         },
         "layout": {
          "annotationdefaults": {
           "arrowcolor": "#2a3f5f",
           "arrowhead": 0,
           "arrowwidth": 1
          },
          "coloraxis": {
           "colorbar": {
            "outlinewidth": 0,
            "ticks": ""
           }
          },
          "colorscale": {
           "diverging": [
            [
             0,
             "#8e0152"
            ],
            [
             0.1,
             "#c51b7d"
            ],
            [
             0.2,
             "#de77ae"
            ],
            [
             0.3,
             "#f1b6da"
            ],
            [
             0.4,
             "#fde0ef"
            ],
            [
             0.5,
             "#f7f7f7"
            ],
            [
             0.6,
             "#e6f5d0"
            ],
            [
             0.7,
             "#b8e186"
            ],
            [
             0.8,
             "#7fbc41"
            ],
            [
             0.9,
             "#4d9221"
            ],
            [
             1,
             "#276419"
            ]
           ],
           "sequential": [
            [
             0,
             "#0d0887"
            ],
            [
             0.1111111111111111,
             "#46039f"
            ],
            [
             0.2222222222222222,
             "#7201a8"
            ],
            [
             0.3333333333333333,
             "#9c179e"
            ],
            [
             0.4444444444444444,
             "#bd3786"
            ],
            [
             0.5555555555555556,
             "#d8576b"
            ],
            [
             0.6666666666666666,
             "#ed7953"
            ],
            [
             0.7777777777777778,
             "#fb9f3a"
            ],
            [
             0.8888888888888888,
             "#fdca26"
            ],
            [
             1,
             "#f0f921"
            ]
           ],
           "sequentialminus": [
            [
             0,
             "#0d0887"
            ],
            [
             0.1111111111111111,
             "#46039f"
            ],
            [
             0.2222222222222222,
             "#7201a8"
            ],
            [
             0.3333333333333333,
             "#9c179e"
            ],
            [
             0.4444444444444444,
             "#bd3786"
            ],
            [
             0.5555555555555556,
             "#d8576b"
            ],
            [
             0.6666666666666666,
             "#ed7953"
            ],
            [
             0.7777777777777778,
             "#fb9f3a"
            ],
            [
             0.8888888888888888,
             "#fdca26"
            ],
            [
             1,
             "#f0f921"
            ]
           ]
          },
          "colorway": [
           "#636efa",
           "#EF553B",
           "#00cc96",
           "#ab63fa",
           "#FFA15A",
           "#19d3f3",
           "#FF6692",
           "#B6E880",
           "#FF97FF",
           "#FECB52"
          ],
          "font": {
           "color": "#2a3f5f"
          },
          "geo": {
           "bgcolor": "white",
           "lakecolor": "white",
           "landcolor": "#E5ECF6",
           "showlakes": true,
           "showland": true,
           "subunitcolor": "white"
          },
          "hoverlabel": {
           "align": "left"
          },
          "hovermode": "closest",
          "mapbox": {
           "style": "light"
          },
          "paper_bgcolor": "white",
          "plot_bgcolor": "#E5ECF6",
          "polar": {
           "angularaxis": {
            "gridcolor": "white",
            "linecolor": "white",
            "ticks": ""
           },
           "bgcolor": "#E5ECF6",
           "radialaxis": {
            "gridcolor": "white",
            "linecolor": "white",
            "ticks": ""
           }
          },
          "scene": {
           "xaxis": {
            "backgroundcolor": "#E5ECF6",
            "gridcolor": "white",
            "gridwidth": 2,
            "linecolor": "white",
            "showbackground": true,
            "ticks": "",
            "zerolinecolor": "white"
           },
           "yaxis": {
            "backgroundcolor": "#E5ECF6",
            "gridcolor": "white",
            "gridwidth": 2,
            "linecolor": "white",
            "showbackground": true,
            "ticks": "",
            "zerolinecolor": "white"
           },
           "zaxis": {
            "backgroundcolor": "#E5ECF6",
            "gridcolor": "white",
            "gridwidth": 2,
            "linecolor": "white",
            "showbackground": true,
            "ticks": "",
            "zerolinecolor": "white"
           }
          },
          "shapedefaults": {
           "line": {
            "color": "#2a3f5f"
           }
          },
          "ternary": {
           "aaxis": {
            "gridcolor": "white",
            "linecolor": "white",
            "ticks": ""
           },
           "baxis": {
            "gridcolor": "white",
            "linecolor": "white",
            "ticks": ""
           },
           "bgcolor": "#E5ECF6",
           "caxis": {
            "gridcolor": "white",
            "linecolor": "white",
            "ticks": ""
           }
          },
          "title": {
           "x": 0.05
          },
          "xaxis": {
           "automargin": true,
           "gridcolor": "white",
           "linecolor": "white",
           "ticks": "",
           "title": {
            "standoff": 15
           },
           "zerolinecolor": "white",
           "zerolinewidth": 2
          },
          "yaxis": {
           "automargin": true,
           "gridcolor": "white",
           "linecolor": "white",
           "ticks": "",
           "title": {
            "standoff": 15
           },
           "zerolinecolor": "white",
           "zerolinewidth": 2
          }
         }
        },
        "title": {
         "text": "Confirmed Coronavirus Cases, 1. May",
         "x": 0.5
        }
       }
      },
      "text/html": [
       "<div>\n",
       "        \n",
       "        \n",
       "            <div id=\"d1e826a6-b701-42c5-827d-d9760f29265a\" class=\"plotly-graph-div\" style=\"height:525px; width:100%;\"></div>\n",
       "            <script type=\"text/javascript\">\n",
       "                require([\"plotly\"], function(Plotly) {\n",
       "                    window.PLOTLYENV=window.PLOTLYENV || {};\n",
       "                    \n",
       "                if (document.getElementById(\"d1e826a6-b701-42c5-827d-d9760f29265a\")) {\n",
       "                    Plotly.newPlot(\n",
       "                        'd1e826a6-b701-42c5-827d-d9760f29265a',\n",
       "                        [{\"colorscale\": [[0.0, \"rgb(255,245,240)\"], [0.125, \"rgb(254,224,210)\"], [0.25, \"rgb(252,187,161)\"], [0.375, \"rgb(252,146,114)\"], [0.5, \"rgb(251,106,74)\"], [0.625, \"rgb(239,59,44)\"], [0.75, \"rgb(203,24,29)\"], [0.875, \"rgb(165,15,21)\"], [1.0, \"rgb(103,0,13)\"]], \"locationmode\": \"country names\", \"locations\": [\"Kuwait\", \"Spain\", \"Botswana\", \"Eritrea\", \"Diamond Princess\", \"Laos\", \"Japan\", \"Congo (Kinshasa)\", \"Cambodia\", \"Azerbaijan\", \"Algeria\", \"Syria\", \"Ghana\", \"Monaco\", \"Togo\", \"San Marino\", \"Burundi\", \"Italy\", \"United Arab Emirates\", \"Mongolia\", \"Romania\", \"Pakistan\", \"Germany\", \"Montenegro\", \"Kyrgyzstan\", \"Austria\", \"Costa Rica\", \"Turkey\", \"Morocco\", \"Bahamas\", \"Sao Tome and Principe\", \"Moldova\", \"Switzerland\", \"Bangladesh\", \"El Salvador\", \"Djibouti\", \"Malta\", \"Saudi Arabia\", \"Zambia\", \"Colombia\", \"Comoros\", \"Guinea\", \"Somalia\", \"Bosnia and Herzegovina\", \"Mauritania\", \"Guatemala\", \"Uganda\", \"Bahrain\", \"Papua New Guinea\", \"Slovakia\", \"Latvia\", \"Mauritius\", \"Congo (Brazzaville)\", \"Mexico\", \"Grenada\", \"Equatorial Guinea\", \"Panama\", \"Venezuela\", \"Greece\", \"Bulgaria\", \"Denmark\", \"Mozambique\", \"Niger\", \"France\", \"Israel\", \"New Zealand\", \"Kenya\", \"Nicaragua\", \"Angola\", \"Cyprus\", \"Thailand\", \"Finland\", \"Argentina\", \"Cabo Verde\", \"Brunei\", \"Timor-Leste\", \"Jordan\", \"Fiji\", \"Rwanda\", \"North Macedonia\", \"Nigeria\", \"Saint Kitts and Nevis\", \"Yemen\", \"Ukraine\", \"Tunisia\", \"South Korea\", \"Antigua and Barbuda\", \"Czech Republic\", \"Ethiopia\", \"Tanzania\", \"Norway\", \"Taiwan\", \"Russia\", \"Tajikistan\", \"Georgia\", \"Iraq\", \"Vietnam\", \"Australia\", \"Namibia\", \"Saint Vincent and the Grenadines\", \"Croatia\", \"Gambia\", \"Brazil\", \"Gabon\", \"Andorra\", \"Oman\", \"Armenia\", \"Ireland\", \"Nepal\", \"Saint Lucia\", \"South Sudan\", \"West Bank and Gaza\", \"Estonia\", \"Netherlands\", \"Cuba\", \"Slovenia\", \"Kosovo\", \"Western Sahara\", \"Eswatini\", \"Albania\", \"Kazakhstan\", \"Iran\", \"Sweden\", \"US\", \"Macau\", \"Belgium\", \"Libya\", \"India\", \"Ecuador\", \"Madagascar\", \"Serbia\", \"Indonesia\", \"Chad\", \"Afghanistan\", \"Hong Kong\", \"Honduras\", \"Mainland China\", \"Holy See\", \"Burkina Faso\", \"Bolivia\", \"Sri Lanka\", \"Uzbekistan\", \"Haiti\", \"Belarus\", \"Liberia\", \"Philippines\", \"Central African Republic\", \"Peru\", \"Luxembourg\", \"Zimbabwe\", \"Lithuania\", \"Sudan\", \"Iceland\", \"Uruguay\", \"Benin\", \"Bhutan\", \"Canada\", \"Dominican Republic\", \"Trinidad and Tobago\", \"Hungary\", \"South Africa\", \"Singapore\", \"MS Zaandam\", \"Sierra Leone\", \"Portugal\", \"Poland\", \"Liechtenstein\", \"Belize\", \"Jamaica\", \"Suriname\", \"Seychelles\", \"Qatar\", \"Dominica\", \"Guyana\", \"Mali\", \"Guinea-Bissau\", \"Cameroon\", \"Lebanon\", \"Barbados\", \"Chile\", \"Egypt\", \"Malaysia\", \"Senegal\", \"UK\", \"Ivory Coast\", \"Maldives\", \"Malawi\", \"Paraguay\", \"Burma\", \"Others\", \"Reunion\", \"East Timor\", \"French Guiana\", \"Gambia, The\", \"Martinique\", \"Guadeloupe\", \"Bahamas, The\", \"Mayotte\", \"Cape Verde\", \"Aruba\", \"Cayman Islands\", \"Curacao\", \"Gibraltar\", \"Channel Islands\", \"Faroe Islands\", \"Saint Barthelemy\", \"('St. Martin',)\", \"Palestine\", \"St. Martin\", \"Vatican City\", \"Republic of Ireland\", \" Azerbaijan\", \"North Ireland\"], \"marker\": {\"line\": {\"color\": \"black\", \"width\": 0.5}}, \"type\": \"choropleth\", \"z\": [4024.0, 213435.0, 23.0, 39.0, 712.0, 19.0, 14088.0, 572.0, 122.0, 1804.0, 4006.0, 43.0, 2074.0, 95.0, 116.0, 569.0, 11.0, 205463.0, 12481.0, 38.0, 12240.0, 16817.0, 163009.0, 322.0, 746.0, 15452.0, 719.0, 120204.0, 4423.0, 81.0, 14.0, 3897.0, 29586.0, 7667.0, 395.0, 1089.0, 465.0, 22753.0, 106.0, 6507.0, 1.0, 1495.0, 601.0, 1757.0, 8.0, 599.0, 83.0, 3040.0, 8.0, 1396.0, 858.0, 332.0, 220.0, 19224.0, 20.0, 315.0, 6532.0, 333.0, 2591.0, 1506.0, 9356.0, 76.0, 719.0, 167299.0, 15946.0, 1479.0, 396.0, 14.0, 27.0, 850.0, 2954.0, 4995.0, 4428.0, 121.0, 138.0, 24.0, 453.0, 18.0, 243.0, 1465.0, 1932.0, 15.0, 6.0, 10406.0, 994.0, 10774.0, 24.0, 7682.0, 131.0, 480.0, 7738.0, 429.0, 106498.0, 15.0, 539.0, 2085.0, 270.0, 6766.0, 16.0, 16.0, 2076.0, 11.0, 87187.0, 276.0, 745.0, 2348.0, 2066.0, 20612.0, 57.0, 17.0, 35.0, 344.0, 1689.0, 39512.0, 1501.0, 1429.0, 799.0, 6.0, 100.0, 773.0, 3402.0, 94640.0, 21092.0, 1069424.0, 45.0, 48519.0, 61.0, 34863.0, 24934.0, 128.0, 9009.0, 10118.0, 73.0, 2171.0, 1037.0, 771.0, 82874.0, 11.0, 645.0, 1110.0, 663.0, 2039.0, 81.0, 14027.0, 141.0, 8488.0, 50.0, 36976.0, 3784.0, 40.0, 1385.0, 442.0, 1797.0, 643.0, 64.0, 7.0, 54457.0, 6972.0, 116.0, 2775.0, 5647.0, 16169.0, 9.0, 124.0, 25045.0, 12877.0, 82.0, 18.0, 422.0, 10.0, 11.0, 13409.0, 16.0, 82.0, 490.0, 205.0, 1832.0, 725.0, 81.0, 16023.0, 5537.0, 6002.0, 933.0, 172481.0, 1275.0, 468.0, 37.0, 266.0, 151.0, 712.0, 45.0, 1.0, 18.0, 1.0, 32.0, 53.0, 4.0, 7.0, 1.0, 4.0, 1.0, 1.0, 1.0, 1.0, 2.0, 1.0, 2.0, 22.0, 2.0, 1.0, 21.0, 1.0, 1.0]}],\n",
       "                        {\"geo\": {\"projection\": {\"type\": \"equirectangular\"}, \"showcoastlines\": false, \"showframe\": false}, \"template\": {\"data\": {\"bar\": [{\"error_x\": {\"color\": \"#2a3f5f\"}, \"error_y\": {\"color\": \"#2a3f5f\"}, \"marker\": {\"line\": {\"color\": \"#E5ECF6\", \"width\": 0.5}}, \"type\": \"bar\"}], \"barpolar\": [{\"marker\": {\"line\": {\"color\": \"#E5ECF6\", \"width\": 0.5}}, \"type\": \"barpolar\"}], \"carpet\": [{\"aaxis\": {\"endlinecolor\": \"#2a3f5f\", \"gridcolor\": \"white\", \"linecolor\": \"white\", \"minorgridcolor\": \"white\", \"startlinecolor\": \"#2a3f5f\"}, \"baxis\": {\"endlinecolor\": \"#2a3f5f\", \"gridcolor\": \"white\", \"linecolor\": \"white\", \"minorgridcolor\": \"white\", \"startlinecolor\": \"#2a3f5f\"}, \"type\": \"carpet\"}], \"choropleth\": [{\"colorbar\": {\"outlinewidth\": 0, \"ticks\": \"\"}, \"type\": \"choropleth\"}], \"contour\": [{\"colorbar\": {\"outlinewidth\": 0, \"ticks\": \"\"}, \"colorscale\": [[0.0, \"#0d0887\"], [0.1111111111111111, \"#46039f\"], [0.2222222222222222, \"#7201a8\"], [0.3333333333333333, \"#9c179e\"], [0.4444444444444444, \"#bd3786\"], [0.5555555555555556, \"#d8576b\"], [0.6666666666666666, \"#ed7953\"], [0.7777777777777778, \"#fb9f3a\"], [0.8888888888888888, \"#fdca26\"], [1.0, \"#f0f921\"]], \"type\": \"contour\"}], \"contourcarpet\": [{\"colorbar\": {\"outlinewidth\": 0, \"ticks\": \"\"}, \"type\": \"contourcarpet\"}], \"heatmap\": [{\"colorbar\": {\"outlinewidth\": 0, \"ticks\": \"\"}, \"colorscale\": [[0.0, \"#0d0887\"], [0.1111111111111111, \"#46039f\"], [0.2222222222222222, \"#7201a8\"], [0.3333333333333333, \"#9c179e\"], [0.4444444444444444, \"#bd3786\"], [0.5555555555555556, \"#d8576b\"], [0.6666666666666666, \"#ed7953\"], [0.7777777777777778, \"#fb9f3a\"], [0.8888888888888888, \"#fdca26\"], [1.0, \"#f0f921\"]], \"type\": \"heatmap\"}], \"heatmapgl\": [{\"colorbar\": {\"outlinewidth\": 0, \"ticks\": \"\"}, \"colorscale\": [[0.0, \"#0d0887\"], [0.1111111111111111, \"#46039f\"], [0.2222222222222222, \"#7201a8\"], [0.3333333333333333, \"#9c179e\"], [0.4444444444444444, \"#bd3786\"], [0.5555555555555556, \"#d8576b\"], [0.6666666666666666, \"#ed7953\"], [0.7777777777777778, \"#fb9f3a\"], [0.8888888888888888, \"#fdca26\"], [1.0, \"#f0f921\"]], \"type\": \"heatmapgl\"}], \"histogram\": [{\"marker\": {\"colorbar\": {\"outlinewidth\": 0, \"ticks\": \"\"}}, \"type\": \"histogram\"}], \"histogram2d\": [{\"colorbar\": {\"outlinewidth\": 0, \"ticks\": \"\"}, \"colorscale\": [[0.0, \"#0d0887\"], [0.1111111111111111, \"#46039f\"], [0.2222222222222222, \"#7201a8\"], [0.3333333333333333, \"#9c179e\"], [0.4444444444444444, \"#bd3786\"], [0.5555555555555556, \"#d8576b\"], [0.6666666666666666, \"#ed7953\"], [0.7777777777777778, \"#fb9f3a\"], [0.8888888888888888, \"#fdca26\"], [1.0, \"#f0f921\"]], \"type\": \"histogram2d\"}], \"histogram2dcontour\": [{\"colorbar\": {\"outlinewidth\": 0, \"ticks\": \"\"}, \"colorscale\": [[0.0, \"#0d0887\"], [0.1111111111111111, \"#46039f\"], [0.2222222222222222, \"#7201a8\"], [0.3333333333333333, \"#9c179e\"], [0.4444444444444444, \"#bd3786\"], [0.5555555555555556, \"#d8576b\"], [0.6666666666666666, \"#ed7953\"], [0.7777777777777778, \"#fb9f3a\"], [0.8888888888888888, \"#fdca26\"], [1.0, \"#f0f921\"]], \"type\": \"histogram2dcontour\"}], \"mesh3d\": [{\"colorbar\": {\"outlinewidth\": 0, \"ticks\": \"\"}, \"type\": \"mesh3d\"}], \"parcoords\": [{\"line\": {\"colorbar\": {\"outlinewidth\": 0, \"ticks\": \"\"}}, \"type\": \"parcoords\"}], \"pie\": [{\"automargin\": true, \"type\": \"pie\"}], \"scatter\": [{\"marker\": {\"colorbar\": {\"outlinewidth\": 0, \"ticks\": \"\"}}, \"type\": \"scatter\"}], \"scatter3d\": [{\"line\": {\"colorbar\": {\"outlinewidth\": 0, \"ticks\": \"\"}}, \"marker\": {\"colorbar\": {\"outlinewidth\": 0, \"ticks\": \"\"}}, \"type\": \"scatter3d\"}], \"scattercarpet\": [{\"marker\": {\"colorbar\": {\"outlinewidth\": 0, \"ticks\": \"\"}}, \"type\": \"scattercarpet\"}], \"scattergeo\": [{\"marker\": {\"colorbar\": {\"outlinewidth\": 0, \"ticks\": \"\"}}, \"type\": \"scattergeo\"}], \"scattergl\": [{\"marker\": {\"colorbar\": {\"outlinewidth\": 0, \"ticks\": \"\"}}, \"type\": \"scattergl\"}], \"scattermapbox\": [{\"marker\": {\"colorbar\": {\"outlinewidth\": 0, \"ticks\": \"\"}}, \"type\": \"scattermapbox\"}], \"scatterpolar\": [{\"marker\": {\"colorbar\": {\"outlinewidth\": 0, \"ticks\": \"\"}}, \"type\": \"scatterpolar\"}], \"scatterpolargl\": [{\"marker\": {\"colorbar\": {\"outlinewidth\": 0, \"ticks\": \"\"}}, \"type\": \"scatterpolargl\"}], \"scatterternary\": [{\"marker\": {\"colorbar\": {\"outlinewidth\": 0, \"ticks\": \"\"}}, \"type\": \"scatterternary\"}], \"surface\": [{\"colorbar\": {\"outlinewidth\": 0, \"ticks\": \"\"}, \"colorscale\": [[0.0, \"#0d0887\"], [0.1111111111111111, \"#46039f\"], [0.2222222222222222, \"#7201a8\"], [0.3333333333333333, \"#9c179e\"], [0.4444444444444444, \"#bd3786\"], [0.5555555555555556, \"#d8576b\"], [0.6666666666666666, \"#ed7953\"], [0.7777777777777778, \"#fb9f3a\"], [0.8888888888888888, \"#fdca26\"], [1.0, \"#f0f921\"]], \"type\": \"surface\"}], \"table\": [{\"cells\": {\"fill\": {\"color\": \"#EBF0F8\"}, \"line\": {\"color\": \"white\"}}, \"header\": {\"fill\": {\"color\": \"#C8D4E3\"}, \"line\": {\"color\": \"white\"}}, \"type\": \"table\"}]}, \"layout\": {\"annotationdefaults\": {\"arrowcolor\": \"#2a3f5f\", \"arrowhead\": 0, \"arrowwidth\": 1}, \"coloraxis\": {\"colorbar\": {\"outlinewidth\": 0, \"ticks\": \"\"}}, \"colorscale\": {\"diverging\": [[0, \"#8e0152\"], [0.1, \"#c51b7d\"], [0.2, \"#de77ae\"], [0.3, \"#f1b6da\"], [0.4, \"#fde0ef\"], [0.5, \"#f7f7f7\"], [0.6, \"#e6f5d0\"], [0.7, \"#b8e186\"], [0.8, \"#7fbc41\"], [0.9, \"#4d9221\"], [1, \"#276419\"]], \"sequential\": [[0.0, \"#0d0887\"], [0.1111111111111111, \"#46039f\"], [0.2222222222222222, \"#7201a8\"], [0.3333333333333333, \"#9c179e\"], [0.4444444444444444, \"#bd3786\"], [0.5555555555555556, \"#d8576b\"], [0.6666666666666666, \"#ed7953\"], [0.7777777777777778, \"#fb9f3a\"], [0.8888888888888888, \"#fdca26\"], [1.0, \"#f0f921\"]], \"sequentialminus\": [[0.0, \"#0d0887\"], [0.1111111111111111, \"#46039f\"], [0.2222222222222222, \"#7201a8\"], [0.3333333333333333, \"#9c179e\"], [0.4444444444444444, \"#bd3786\"], [0.5555555555555556, \"#d8576b\"], [0.6666666666666666, \"#ed7953\"], [0.7777777777777778, \"#fb9f3a\"], [0.8888888888888888, \"#fdca26\"], [1.0, \"#f0f921\"]]}, \"colorway\": [\"#636efa\", \"#EF553B\", \"#00cc96\", \"#ab63fa\", \"#FFA15A\", \"#19d3f3\", \"#FF6692\", \"#B6E880\", \"#FF97FF\", \"#FECB52\"], \"font\": {\"color\": \"#2a3f5f\"}, \"geo\": {\"bgcolor\": \"white\", \"lakecolor\": \"white\", \"landcolor\": \"#E5ECF6\", \"showlakes\": true, \"showland\": true, \"subunitcolor\": \"white\"}, \"hoverlabel\": {\"align\": \"left\"}, \"hovermode\": \"closest\", \"mapbox\": {\"style\": \"light\"}, \"paper_bgcolor\": \"white\", \"plot_bgcolor\": \"#E5ECF6\", \"polar\": {\"angularaxis\": {\"gridcolor\": \"white\", \"linecolor\": \"white\", \"ticks\": \"\"}, \"bgcolor\": \"#E5ECF6\", \"radialaxis\": {\"gridcolor\": \"white\", \"linecolor\": \"white\", \"ticks\": \"\"}}, \"scene\": {\"xaxis\": {\"backgroundcolor\": \"#E5ECF6\", \"gridcolor\": \"white\", \"gridwidth\": 2, \"linecolor\": \"white\", \"showbackground\": true, \"ticks\": \"\", \"zerolinecolor\": \"white\"}, \"yaxis\": {\"backgroundcolor\": \"#E5ECF6\", \"gridcolor\": \"white\", \"gridwidth\": 2, \"linecolor\": \"white\", \"showbackground\": true, \"ticks\": \"\", \"zerolinecolor\": \"white\"}, \"zaxis\": {\"backgroundcolor\": \"#E5ECF6\", \"gridcolor\": \"white\", \"gridwidth\": 2, \"linecolor\": \"white\", \"showbackground\": true, \"ticks\": \"\", \"zerolinecolor\": \"white\"}}, \"shapedefaults\": {\"line\": {\"color\": \"#2a3f5f\"}}, \"ternary\": {\"aaxis\": {\"gridcolor\": \"white\", \"linecolor\": \"white\", \"ticks\": \"\"}, \"baxis\": {\"gridcolor\": \"white\", \"linecolor\": \"white\", \"ticks\": \"\"}, \"bgcolor\": \"#E5ECF6\", \"caxis\": {\"gridcolor\": \"white\", \"linecolor\": \"white\", \"ticks\": \"\"}}, \"title\": {\"x\": 0.05}, \"xaxis\": {\"automargin\": true, \"gridcolor\": \"white\", \"linecolor\": \"white\", \"ticks\": \"\", \"title\": {\"standoff\": 15}, \"zerolinecolor\": \"white\", \"zerolinewidth\": 2}, \"yaxis\": {\"automargin\": true, \"gridcolor\": \"white\", \"linecolor\": \"white\", \"ticks\": \"\", \"title\": {\"standoff\": 15}, \"zerolinecolor\": \"white\", \"zerolinewidth\": 2}}}, \"title\": {\"text\": \"Confirmed Coronavirus Cases, 1. May\", \"x\": 0.5}},\n",
       "                        {\"responsive\": true}\n",
       "                    ).then(function(){\n",
       "                            \n",
       "var gd = document.getElementById('d1e826a6-b701-42c5-827d-d9760f29265a');\n",
       "var x = new MutationObserver(function (mutations, observer) {{\n",
       "        var display = window.getComputedStyle(gd).display;\n",
       "        if (!display || display === 'none') {{\n",
       "            console.log([gd, 'removed!']);\n",
       "            Plotly.purge(gd);\n",
       "            observer.disconnect();\n",
       "        }}\n",
       "}});\n",
       "\n",
       "// Listen for the removal of the full notebook cells\n",
       "var notebookContainer = gd.closest('#notebook-container');\n",
       "if (notebookContainer) {{\n",
       "    x.observe(notebookContainer, {childList: true});\n",
       "}}\n",
       "\n",
       "// Listen for the clearing of the current output cell\n",
       "var outputEl = gd.closest('.output');\n",
       "if (outputEl) {{\n",
       "    x.observe(outputEl, {childList: true});\n",
       "}}\n",
       "\n",
       "                        })\n",
       "                };\n",
       "                });\n",
       "            </script>\n",
       "        </div>"
      ]
     },
     "metadata": {},
     "output_type": "display_data"
    }
   ],
   "source": [
    "#read in datafram\n",
    "dt = pd.read_csv(\"novel-corona-virus-2019-dataset/covid_19_data.csv\")\n",
    "\n",
    "#rename columns\n",
    "dt = dt.rename(columns = {'Country/Region':'Country'})\n",
    "dt = dt.rename(columns = {'Province/State':'State'})\n",
    "dt = dt.rename(columns = {'ObservationDate':'Date'})\n",
    "\n",
    "#summing all cases by country and date\n",
    "dt_countries = dt.groupby(['Country', 'Date']).sum()\n",
    "#ordering indexed table by date (latest first)\n",
    "dt_countries = dt_countries.reset_index().sort_values('Date', ascending=False)\n",
    "\n",
    "#finding duplicates\n",
    "#dt_countries[dt_countries.duplicated(subset = ['Country'])]\n",
    "\n",
    "#remove duplicates as cases are summed\n",
    "dt_countries = dt_countries.drop_duplicates(subset = ['Country'])\n",
    "\n",
    "#finding effected countries\n",
    "dt_affected = dt_countries[dt_countries['Confirmed']>0]\n",
    "\n",
    "world_fig = go.Figure(data=go.Choropleth(\n",
    "    locations = dt_affected['Country'],\n",
    "    locationmode = 'country names', \n",
    "    z = dt_affected['Confirmed'],\n",
    "    colorscale = 'Reds',\n",
    "    marker_line_color = \"black\",\n",
    "    marker_line_width = 0.5))\n",
    "world_fig.update_layout(\n",
    "    title = 'Confirmed Coronavirus Cases, 1. May',\n",
    "    title_x = 0.5,\n",
    "    geo=dict(showframe = False, showcoastlines = False, projection_type='equirectangular'))\n",
    "\n",
    "\n",
    "\n"
   ]
  },
  {
   "cell_type": "code",
   "execution_count": 48,
   "metadata": {},
   "outputs": [
    {
     "ename": "TypeError",
     "evalue": "choropleth() got an unexpected keyword argument 'colorscale'",
     "output_type": "error",
     "traceback": [
      "\u001b[1;31m---------------------------------------------------------------------------\u001b[0m",
      "\u001b[1;31mTypeError\u001b[0m                                 Traceback (most recent call last)",
      "\u001b[1;32m<ipython-input-48-ed452a6219d5>\u001b[0m in \u001b[0;36m<module>\u001b[1;34m\u001b[0m\n\u001b[0;32m     15\u001b[0m                     \u001b[0mcolorscale\u001b[0m \u001b[1;33m=\u001b[0m \u001b[1;34m'Reds'\u001b[0m\u001b[1;33m,\u001b[0m\u001b[1;33m\u001b[0m\u001b[0m\n\u001b[0;32m     16\u001b[0m                     \u001b[0mhover_name\u001b[0m\u001b[1;33m=\u001b[0m\u001b[1;34m\"Country\"\u001b[0m\u001b[1;33m,\u001b[0m\u001b[1;33m\u001b[0m\u001b[0m\n\u001b[1;32m---> 17\u001b[1;33m                     \u001b[0manimation_frame\u001b[0m\u001b[1;33m=\u001b[0m\u001b[1;34m\"Date\"\u001b[0m\u001b[1;33m\u001b[0m\u001b[0m\n\u001b[0m\u001b[0;32m     18\u001b[0m                    )\n\u001b[0;32m     19\u001b[0m \u001b[1;33m\u001b[0m\u001b[0m\n",
      "\u001b[1;31mTypeError\u001b[0m: choropleth() got an unexpected keyword argument 'colorscale'"
     ]
    }
   ],
   "source": [
    "#animated map\n",
    "\n",
    "# selecting affected countries (full row)\n",
    "dt_countrydate = dt[dt['Confirmed']>0]\n",
    "#sum cases over time\n",
    "dt_countrydate = dt_countrydate.groupby(['Date','Country']).sum().reset_index()\n",
    "dt_countrydate\n",
    "\n",
    "\n",
    "# Creating the visualization\n",
    "fig = px.choropleth(dt_countrydate, \n",
    "                    locations=\"Country\", \n",
    "                    locationmode = \"country names\",\n",
    "                    color=\"Confirmed\",\n",
    "                    \n",
    "                    hover_name=\"Country\", \n",
    "                    animation_frame=\"Date\"\n",
    "                   )\n",
    "\n",
    "fig.update_layout(\n",
    "    title_text = 'Global Spread of Coronavirus',\n",
    "    title_x = 0.5,\n",
    "    geo=dict(\n",
    "        showframe = False,\n",
    "        showcoastlines = False,\n",
    "    ))\n",
    "    \n",
    "fig.show()"
   ]
  },
  {
   "cell_type": "code",
   "execution_count": null,
   "metadata": {},
   "outputs": [],
   "source": []
  }
 ],
 "metadata": {
  "kernelspec": {
   "display_name": "Python 3",
   "language": "python",
   "name": "python3"
  },
  "language_info": {
   "codemirror_mode": {
    "name": "ipython",
    "version": 3
   },
   "file_extension": ".py",
   "mimetype": "text/x-python",
   "name": "python",
   "nbconvert_exporter": "python",
   "pygments_lexer": "ipython3",
   "version": "3.7.0"
  }
 },
 "nbformat": 4,
 "nbformat_minor": 4
}
